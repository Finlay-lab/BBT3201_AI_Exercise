{
 "cells": [
  {
   "cell_type": "code",
   "execution_count": 1,
   "id": "48cdf947",
   "metadata": {},
   "outputs": [
    {
     "name": "stdout",
     "output_type": "stream",
     "text": [
      "Assignment setup complete!\n"
     ]
    }
   ],
   "source": [
    "# BBT 3201: Artificial Intelligence\n",
    "# Practical Exercise 1: Python Programming & Data Structures Refresher\n",
    "# Student: [Finlay Bett]\n",
    "# Date: [9/4/2025]\n",
    "\n",
    "# Import necessary libraries\n",
    "import math\n",
    "import numpy as np\n",
    "\n",
    "print(\"Assignment setup complete!\")"
   ]
  },
  {
   "cell_type": "code",
   "execution_count": 2,
   "id": "ca3eb3f7",
   "metadata": {},
   "outputs": [
    {
     "name": "stdout",
     "output_type": "stream",
     "text": [
      "5.0 days is equal to 432,000 seconds\n"
     ]
    }
   ],
   "source": [
    "# Question 1: Program to convert days to seconds\n",
    "def days_to_seconds():\n",
    "    \"\"\"\n",
    "    Function to convert days to seconds\n",
    "    Formula: 1 day = 24 hours × 60 minutes × 60 seconds = 86,400 seconds\n",
    "    \"\"\"\n",
    "    try:\n",
    "        # Get input from user\n",
    "        days = float(input(\"Enter the number of days: \"))\n",
    "        \n",
    "        # Calculate seconds (1 day = 86,400 seconds)\n",
    "        seconds = days * 24 * 60 * 60\n",
    "        \n",
    "        # Display result\n",
    "        print(f\"{days} days is equal to {seconds:,.0f} seconds\")\n",
    "        \n",
    "    except ValueError:\n",
    "        print(\"Please enter a valid number!\")\n",
    "\n",
    "# Call the function\n",
    "days_to_seconds()"
   ]
  },
  {
   "cell_type": "code",
   "execution_count": 3,
   "id": "62599a18",
   "metadata": {},
   "outputs": [
    {
     "name": "stdout",
     "output_type": "stream",
     "text": [
      "The volume of a sphere with radius 4.0 is 268.08 cubic units\n"
     ]
    }
   ],
   "source": [
    "# Question 2: Program to calculate volume of a sphere\n",
    "def sphere_volume():\n",
    "    \"\"\"\n",
    "    Function to calculate the volume of a sphere\n",
    "    Formula: V = (4/3)πr³ where r is the radius\n",
    "    \"\"\"\n",
    "    try:\n",
    "        # Get radius input from user\n",
    "        radius = float(input(\"Enter the radius of the sphere: \"))\n",
    "        \n",
    "        # Calculate volume using the formula (4/3)πr³\n",
    "        volume = (4/3) * math.pi * (radius ** 3)\n",
    "        \n",
    "        # Display result\n",
    "        print(f\"The volume of a sphere with radius {radius} is {volume:.2f} cubic units\")\n",
    "        \n",
    "    except ValueError:\n",
    "        print(\"Please enter a valid number!\")\n",
    "\n",
    "# Call the function\n",
    "sphere_volume()"
   ]
  },
  {
   "cell_type": "code",
   "execution_count": 4,
   "id": "28ca80f0",
   "metadata": {},
   "outputs": [
    {
     "name": "stdout",
     "output_type": "stream",
     "text": [
      "Square with side length 8.0:\n",
      "Area: 64.00 square units\n",
      "Perimeter: 32.00 units\n"
     ]
    }
   ],
   "source": [
    "# Question 3: Program to calculate area and perimeter of a square using functions\n",
    "def calculate_square_area(side_length):\n",
    "    \"\"\"Function to calculate the area of a square\"\"\"\n",
    "    return side_length ** 2\n",
    "\n",
    "def calculate_square_perimeter(side_length):\n",
    "    \"\"\"Function to calculate the perimeter of a square\"\"\"\n",
    "    return 4 * side_length\n",
    "\n",
    "def square_calculator():\n",
    "    \"\"\"Main function to get user input and display area and perimeter\"\"\"\n",
    "    try:\n",
    "        side_length = float(input(\"Enter the side length of the square: \"))\n",
    "        area = calculate_square_area(side_length)\n",
    "        perimeter = calculate_square_perimeter(side_length)\n",
    "        \n",
    "        print(f\"Square with side length {side_length}:\")\n",
    "        print(f\"Area: {area:.2f} square units\")\n",
    "        print(f\"Perimeter: {perimeter:.2f} units\")\n",
    "        \n",
    "    except ValueError:\n",
    "        print(\"Please enter a valid number!\")\n",
    "\n",
    "# Call the function\n",
    "square_calculator()"
   ]
  },
  {
   "cell_type": "code",
   "execution_count": 5,
   "id": "034dab2a",
   "metadata": {},
   "outputs": [
    {
     "name": "stdout",
     "output_type": "stream",
     "text": [
      "'j' is a lowercase letter\n"
     ]
    }
   ],
   "source": [
    "# Question 4: Program to determine if a character is uppercase or lowercase\n",
    "def check_character_case():\n",
    "    \"\"\"Function to check if a character is uppercase or lowercase\"\"\"\n",
    "    try:\n",
    "        char = input(\"Enter a single character: \")\n",
    "        \n",
    "        if len(char) != 1:\n",
    "            print(\"Please enter exactly one character!\")\n",
    "            return\n",
    "        \n",
    "        if not char.isalpha():\n",
    "            print(\"Please enter a letter!\")\n",
    "            return\n",
    "        \n",
    "        if char.isupper():\n",
    "            print(f\"'{char}' is an uppercase letter\")\n",
    "        elif char.islower():\n",
    "            print(f\"'{char}' is a lowercase letter\")\n",
    "            \n",
    "    except Exception as e:\n",
    "        print(f\"An error occurred: {e}\")\n",
    "\n",
    "# Call the function\n",
    "check_character_case()"
   ]
  },
  {
   "cell_type": "code",
   "execution_count": 6,
   "id": "5acb1d22",
   "metadata": {},
   "outputs": [
    {
     "name": "stdout",
     "output_type": "stream",
     "text": [
      "Starting values: x = 0 , y = 20\n",
      "\n",
      "Loop iterations:\n",
      "After iteration: x = 0.1250, y = 16\n",
      "After iteration: x = 0.2917, y = 12\n",
      "After iteration: x = 0.5417, y = 8\n",
      "After iteration: x = 1.0417, y = 4\n",
      "\n",
      "Final result: x = 1.0417\n"
     ]
    }
   ],
   "source": [
    "# Question 5: Python implementation of the given pseudocode\n",
    "def pseudocode_implementation():\n",
    "    \"\"\"Implementation of the given pseudocode\"\"\"\n",
    "    x = 0\n",
    "    y = 20\n",
    "    \n",
    "    print(\"Starting values: x =\", x, \", y =\", y)\n",
    "    print(\"\\nLoop iterations:\")\n",
    "    \n",
    "    while y >= 6:\n",
    "        y = y - 4\n",
    "        x = x + (2 / y)\n",
    "        print(f\"After iteration: x = {x:.4f}, y = {y}\")\n",
    "    \n",
    "    print(f\"\\nFinal result: x = {x:.4f}\")\n",
    "\n",
    "# Call the function\n",
    "pseudocode_implementation()"
   ]
  },
  {
   "cell_type": "code",
   "execution_count": 7,
   "id": "f8eea131",
   "metadata": {},
   "outputs": [
    {
     "name": "stdout",
     "output_type": "stream",
     "text": [
      "Enter 5 values:\n",
      "\n",
      "Values entered: [1215131820.0, 34.0, 66.0, 45.0, 23.0]\n",
      "Average: 243026397.60\n"
     ]
    }
   ],
   "source": [
    "# Question 6: Program to input 5 values and calculate their average\n",
    "def array_average_calculator():\n",
    "    \"\"\"Function to input 5 values into an array and calculate the average\"\"\"\n",
    "    values = []\n",
    "    \n",
    "    print(\"Enter 5 values:\")\n",
    "    \n",
    "    for i in range(5):\n",
    "        try:\n",
    "            value = float(input(f\"Enter value {i+1}: \"))\n",
    "            values.append(value)\n",
    "        except ValueError:\n",
    "            print(\"Please enter a valid number!\")\n",
    "            return\n",
    "    \n",
    "    average = sum(values) / len(values)\n",
    "    \n",
    "    print(f\"\\nValues entered: {values}\")\n",
    "    print(f\"Average: {average:.2f}\")\n",
    "\n",
    "# Call the function\n",
    "array_average_calculator()"
   ]
  },
  {
   "cell_type": "code",
   "execution_count": 8,
   "id": "19fb3a80",
   "metadata": {},
   "outputs": [
    {
     "name": "stdout",
     "output_type": "stream",
     "text": [
      "Testing with array: [1, 4, -1, 3, 2]\n",
      "Expected result: 4\n",
      "Actual result: 4\n",
      "\n",
      "Step-by-step traversal:\n",
      "Step 1: At index 0, value = 1\n",
      "Step 2: At index 1, value = 4\n",
      "Step 3: At index 4, value = 2\n",
      "Step 4: At index 2, value = -1\n"
     ]
    },
    {
     "data": {
      "text/plain": [
       "4"
      ]
     },
     "execution_count": 8,
     "metadata": {},
     "output_type": "execute_result"
    }
   ],
   "source": [
    "# Question 7: Codility Challenge - Linked List Length\n",
    "# Problem: Find the length of a linked list represented as an array\n",
    "\n",
    "def solution(A):\n",
    "    \"\"\"\n",
    "    Find the length of a linked list represented as an array.\n",
    "    \n",
    "    Args:\n",
    "        A: Array where A[K] is the next index to visit, or -1 for end\n",
    "    \n",
    "    Returns:\n",
    "        Length of the linked list\n",
    "    \"\"\"\n",
    "    if not A:\n",
    "        return 0\n",
    "    \n",
    "    length = 0\n",
    "    current_index = 0\n",
    "    \n",
    "    # Traverse the linked list\n",
    "    while current_index != -1:\n",
    "        length += 1\n",
    "        current_index = A[current_index]\n",
    "    \n",
    "    return length\n",
    "\n",
    "# Test with the given example\n",
    "def test_solution():\n",
    "    \"\"\"Test the solution with the provided example\"\"\"\n",
    "    # Example: A = [1, 4, -1, 3, 2]\n",
    "    A = [1, 4, -1, 3, 2]\n",
    "    \n",
    "    print(\"Testing with array:\", A)\n",
    "    print(\"Expected result: 4\")\n",
    "    \n",
    "    result = solution(A)\n",
    "    print(f\"Actual result: {result}\")\n",
    "    \n",
    "    # Let's trace through it step by step\n",
    "    print(\"\\nStep-by-step traversal:\")\n",
    "    current = 0\n",
    "    step = 1\n",
    "    while current != -1:\n",
    "        print(f\"Step {step}: At index {current}, value = {A[current]}\")\n",
    "        current = A[current]\n",
    "        step += 1\n",
    "    \n",
    "    return result\n",
    "\n",
    "# Run the test\n",
    "test_solution()"
   ]
  },
  {
   "cell_type": "code",
   "execution_count": null,
   "id": "0ed56935",
   "metadata": {},
   "outputs": [],
   "source": []
  }
 ],
 "metadata": {
  "kernelspec": {
   "display_name": "venv",
   "language": "python",
   "name": "python3"
  },
  "language_info": {
   "codemirror_mode": {
    "name": "ipython",
    "version": 3
   },
   "file_extension": ".py",
   "mimetype": "text/x-python",
   "name": "python",
   "nbconvert_exporter": "python",
   "pygments_lexer": "ipython3",
   "version": "3.12.6"
  }
 },
 "nbformat": 4,
 "nbformat_minor": 5
}
